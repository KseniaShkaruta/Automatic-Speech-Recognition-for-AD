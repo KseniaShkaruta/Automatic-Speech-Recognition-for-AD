{
 "cells": [
  {
   "cell_type": "code",
   "execution_count": null,
   "metadata": {
    "collapsed": true
   },
   "outputs": [],
   "source": [
    "import pandas as pd\n",
    "from shared import *              #shared functions from shared.py"
   ]
  },
  {
   "cell_type": "code",
   "execution_count": null,
   "metadata": {
    "collapsed": true
   },
   "outputs": [],
   "source": [
    "#read in csv file, delete % of words from json manual transcript, output csv with altered manual transcript and deleted words as new columns\n",
    "\n",
    "df = pd.read_csv('../ASRforAD.csv')\n",
    "\n",
    "df = df.merge(df.json_utterances_man.apply(lambda s: pd.Series(del_words(s, 0.2))), left_index=True, right_index=True)       #call the deletion function\n",
    "df.rename(columns = {0:'json_utterances_man_wt_DELETED_WORDS_20%', 1:'DELETED_WORDS_20%'}, inplace =True )       #rename new columns\n",
    "\n",
    "df.to_csv('../DELETION_ASRforAD.csv')\n",
    "\n",
    "print(df.head())"
   ]
  },
  {
   "cell_type": "code",
   "execution_count": null,
   "metadata": {
    "collapsed": true
   },
   "outputs": [],
   "source": [
    "#delete words from the transcript, return the new transcript and list of deleted words\n",
    "def del_words(transcript, rate):\n",
    "    transcript = store_tr(transcript)\n",
    "    to_delete = random_words_list(flatten(transcript), rate)     #determine how many words need to be deleted\n",
    "    deleted_words = []        \n",
    "    try:\n",
    "        while 0 != (len(to_delete)):            \n",
    "            for sublist in transcript: \n",
    "                for element in sublist['tokens']:\n",
    "                    if to_delete[0] == element['value']:                  \n",
    "                        deleted_words.append(element)\n",
    "                        to_delete.remove(to_delete[0])\n",
    "                        sublist['tokens'].remove(element)                       \n",
    "    except:\n",
    "        pass\n",
    "    return json.dumps(transcript), deleted_words"
   ]
  }
 ],
 "metadata": {
  "kernelspec": {
   "display_name": "Python 3",
   "language": "python",
   "name": "python3"
  },
  "language_info": {
   "codemirror_mode": {
    "name": "ipython",
    "version": 3
   },
   "file_extension": ".py",
   "mimetype": "text/x-python",
   "name": "python",
   "nbconvert_exporter": "python",
   "pygments_lexer": "ipython3",
   "version": "3.6.1"
  }
 },
 "nbformat": 4,
 "nbformat_minor": 2
}
